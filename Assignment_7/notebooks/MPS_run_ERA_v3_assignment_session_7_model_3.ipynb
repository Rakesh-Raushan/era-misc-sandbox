{
 "cells": [
  {
   "cell_type": "markdown",
   "metadata": {},
   "source": [
    "## Basic Imports"
   ]
  },
  {
   "cell_type": "code",
   "execution_count": 1,
   "metadata": {
    "id": "gMXa4ypzgv8P"
   },
   "outputs": [],
   "source": [
    "import torch\n",
    "import torch.nn as nn\n",
    "import torch.nn.functional as F\n",
    "\n",
    "import torch.optim as optim\n",
    "from torch.optim.lr_scheduler import StepLR\n",
    "\n",
    "import torchvision\n",
    "from torchvision import datasets, transforms\n",
    "from torchvision.transforms import v2\n",
    "import random\n",
    "import numpy as np"
   ]
  },
  {
   "cell_type": "markdown",
   "metadata": {},
   "source": [
    "## SEED setup for Reproducibility and deciding device"
   ]
  },
  {
   "cell_type": "code",
   "execution_count": 2,
   "metadata": {},
   "outputs": [
    {
     "name": "stdout",
     "output_type": "stream",
     "text": [
      "Use MPS?: True\n"
     ]
    }
   ],
   "source": [
    "SEED = 1\n",
    "\n",
    "# Apple metal or Nvidia CUDA\n",
    "use_cuda = torch.cuda.is_available()\n",
    "use_mps = torch.mps.is_available()\n",
    "\n",
    "# seed for repeatablility:\n",
    "\n",
    "# for all devices\n",
    "torch.manual_seed(SEED)\n",
    "\n",
    "# for specific acc\n",
    "if use_cuda:\n",
    "    print(f\"Use CUDA?:{use_cuda}\")\n",
    "    torch.cuda.manual_seed(SEED)\n",
    "    torch.cuda.manual_seed_all(SEED)\n",
    "    torch.backends.cudnn.deterministic = True\n",
    "    torch.backends.cudnn.benchmark = False\n",
    "elif use_mps:\n",
    "    print(f\"Use MPS?: {use_mps}\")\n",
    "    torch.mps.manual_seed(SEED)\n",
    "else:\n",
    "    print(\"Using CPU\")\n",
    "\n",
    "random.seed(SEED)\n",
    "np.random.seed(SEED)\n",
    "\n",
    "\n",
    "if use_cuda:\n",
    "    device = torch.device(\"cuda\")\n",
    "elif use_mps:\n",
    "    device = torch.device(\"mps\")\n",
    "else:\n",
    "    device = torch.device(\"cpu\")"
   ]
  },
  {
   "cell_type": "markdown",
   "metadata": {},
   "source": [
    "## Transforms, datasets and dataloaders"
   ]
  },
  {
   "cell_type": "code",
   "execution_count": 3,
   "metadata": {},
   "outputs": [],
   "source": [
    "# has given the best so far\n",
    "\n",
    "# Train Phase transformations\n",
    "train_transforms = transforms.Compose([\n",
    "                                      #  transforms.Resize((28, 28)),\n",
    "                                       # transforms.ColorJitter(brightness=0.10, contrast=0.1, saturation=0.10, hue=0.1),\n",
    "                                       transforms.RandomRotation((-7.0, 7.0), fill=(1,)),\n",
    "                                       transforms.ToTensor(),\n",
    "                                       transforms.Normalize((0.1307,), (0.3081,)), # The mean and std have to be sequences (e.g., tuples), therefore you should add a comma after the values. \n",
    "                                       transforms.RandomErasing(p=0.2, scale=(0.1, 0.25), ratio=(0.3, 3.3), value=0, inplace=False),# Note the difference between (0.1307) and (0.1307,)\n",
    "                                       ])\n",
    "\n",
    "# Test Phase transformations\n",
    "test_transforms = transforms.Compose([\n",
    "                                      #  transforms.Resize((28, 28)),\n",
    "                                      #  transforms.ColorJitter(brightness=0.10, contrast=0.1, saturation=0.10, hue=0.1),\n",
    "                                       transforms.ToTensor(),\n",
    "                                       transforms.Normalize((0.1307,), (0.3081,))\n",
    "                                       ])\n",
    "\n",
    "train = datasets.MNIST('./data', train=True, download=True, transform=train_transforms)\n",
    "test = datasets.MNIST('./data', train=False, download=True, transform=test_transforms)\n",
    "\n",
    "\n",
    "# # Define a worker_init_fn for the DataLoader\n",
    "# def seed_worker(worker_id):\n",
    "#     worker_seed = torch.initial_seed() % 2**32\n",
    "#     np.random.seed(worker_seed)\n",
    "#     random.seed(worker_seed)\n",
    "\n",
    "# DataLoader arguments\n",
    "# dataloader_args = dict(\n",
    "#     shuffle=True,\n",
    "#     batch_size=128,\n",
    "#     num_workers=4,\n",
    "#     pin_memory=True,\n",
    "#     worker_init_fn=seed_worker\n",
    "# ) if torch.cuda.is_available() else dict(\n",
    "#     shuffle=True,\n",
    "#     batch_size=64,\n",
    "#     worker_init_fn=seed_worker\n",
    "# )\n",
    "\n",
    "\n",
    "dataloader_args = dict(shuffle=True,\n",
    "                       batch_size=128,\n",
    "                       num_workers=0,\n",
    "                       pin_memory=True) \\\n",
    "                                        if use_cuda or use_mps else \\\n",
    "                    dict(shuffle=True,\n",
    "                         batch_size=128)\n",
    "\n",
    "\n",
    "train_loader = torch.utils.data.DataLoader(train,\n",
    "                                           **dataloader_args)\n",
    "test_loader = torch.utils.data.DataLoader(test,\n",
    "                                          **dataloader_args)\n",
    "\n",
    "\n"
   ]
  },
  {
   "cell_type": "code",
   "execution_count": 4,
   "metadata": {},
   "outputs": [
    {
     "data": {
      "image/png": "[encoded data removed]",
      "text/plain": [
       "<Figure size 640x480 with 1 Axes>"
      ]
     },
     "metadata": {},
     "output_type": "display_data"
    }
   ],
   "source": [
    "# tranform expects numpy data fro ToTensor\n",
    "# torch.max(train_data), torch.max(train.transform(train_data.numpy()))\n",
    "\n",
    "import matplotlib.pyplot as plt\n",
    "# plt.imshow(train_data[0], cmap=\"gray\")\n",
    "# plt.show()\n",
    "\n",
    "train_iter = iter(train_loader)\n",
    "one_batch_images, one_batch_labels = next(train_iter)\n",
    "sample_image, sample_label = one_batch_images[0], one_batch_labels[0]\n",
    "plt.imshow(sample_image.numpy().squeeze(), cmap = \"gray_r\")\n",
    "plt.title(f\"True Label:{sample_label}\")\n",
    "plt.show()"
   ]
  },
  {
   "cell_type": "code",
   "execution_count": 5,
   "metadata": {},
   "outputs": [
    {
     "name": "stderr",
     "output_type": "stream",
     "text": [
      "Clipping input data to the valid range for imshow with RGB data ([0..1] for floats or [0..255] for integers). Got range [-0.42421296..2.8214867].\n"
     ]
    },
    {
     "data": {
      "text/plain": [
       "<function matplotlib.pyplot.show(close=None, block=None)>"
      ]
     },
     "execution_count": 5,
     "metadata": {},
     "output_type": "execute_result"
    },
    {
     "data": {
      "image/png": "[encoded data removed]",
      "text/plain": [
       "<Figure size 1600x800 with 1 Axes>"
      ]
     },
     "metadata": {},
     "output_type": "display_data"
    }
   ],
   "source": [
    "num_of_images = 32\n",
    "nrow=8\n",
    "\n",
    "# create a torch grid of images\n",
    "grid = torchvision.utils.make_grid(one_batch_images[:num_of_images], nrow=nrow)#, normalize=True)\n",
    "\n",
    "# permute CHW to HWC and tensor grid to numpy as expected for matplotlib imshow\n",
    "grid_np = grid.permute(1,2,0).cpu().numpy()\n",
    "\n",
    "plt.figure(figsize=(16,8))\n",
    "plt.imshow(grid_np,  cmap = \"gray_r\")\n",
    "plt.axis('off')\n",
    "plt.show"
   ]
  },
  {
   "cell_type": "markdown",
   "metadata": {},
   "source": [
    "## Network"
   ]
  },
  {
   "cell_type": "markdown",
   "metadata": {},
   "source": [
    "### Network 3\n",
    "\n",
    "```Target```: Improve model capacity and efficiency\n",
    "- Add more params, add pool layer\n",
    "- Add Image augmentation (Rotation and RandomErasing)\n",
    "- Try LR scheduler experiments\n",
    "\n",
    " \n",
    "```Results```:\n",
    "- Parameters: 7,394\n",
    "- Best Training Accuracy: 97.48\n",
    "- Best Test Accuracy: 99.45\n",
    "\n",
    "```Analysis```: Model is able to achieve accuracy of >99.4 consistently over last few epochs, LR scheduler parameters helped in consitency of results\n",
    "\n",
    "```11th Epoch- 99.44, 12th Epoch-99.40, 13th Epoch-99.43, 14th Epoch-99.45```\n"
   ]
  },
  {
   "cell_type": "code",
   "execution_count": 6,
   "metadata": {},
   "outputs": [],
   "source": [
    "dropout_p = 0.1\n",
    "\n",
    "class MyNetwork3(nn.Module):\n",
    "    def __init__(self):\n",
    "        super().__init__()\n",
    "\n",
    "        #INPUT BLOCK\n",
    "        self.convblock1 = nn.Sequential(\n",
    "            nn.Conv2d(1, 8, 3), #inch=1, outch=8, size=26, rf=3, j=1\n",
    "            nn.BatchNorm2d(8),\n",
    "            nn.ReLU()\n",
    "        )\n",
    "    \n",
    "        #CONV BLOCK 1\n",
    "        self.convblock2 = nn.Sequential(\n",
    "            nn.Conv2d(8,8, 3), #inch=8, outch=16, size=24, rf=5, j=1\n",
    "            nn.BatchNorm2d(8),\n",
    "            nn.ReLU()\n",
    "        )\n",
    "        self.convblock3 = nn.Sequential(\n",
    "            nn.Conv2d(8,16, 3), #inch=16, inout=32, size=22, rf=7, j=1\n",
    "            nn.BatchNorm2d(16),\n",
    "            nn.ReLU()\n",
    "        )\n",
    "        self.convblock4 = nn.Sequential(\n",
    "            nn.Conv2d(16,16, 3), #inch=16, inout=32, size=22, rf=7, j=1\n",
    "            nn.BatchNorm2d(16),\n",
    "            nn.ReLU()\n",
    "        )\n",
    "        # TRANSITION BLOCK\n",
    "        #POOL LAYER\n",
    "        self.convblock5 = nn.Sequential(\n",
    "            nn.Conv2d(16,8,3), #inch32, outch=8, size=20, rf=9, j=1\n",
    "            nn.BatchNorm2d(8),\n",
    "            nn.ReLU()\n",
    "        )\n",
    "    \n",
    "        #CONV BLOCK 2\n",
    "        self.convblock6 = nn.Sequential(\n",
    "            nn.Conv2d(8,8,3), #inch=8, outch=16, size=18, rf=11, j=1\n",
    "            nn.BatchNorm2d(8),\n",
    "            nn.ReLU()\n",
    "        )\n",
    "        self.convblock7 = nn.Sequential(\n",
    "            nn.Conv2d(8,16,3), #inch=8, outch=16, size=18, rf=11, j=1\n",
    "            nn.BatchNorm2d(16),\n",
    "            nn.ReLU()\n",
    "        )\n",
    "        self.convblock8 = nn.Sequential(\n",
    "            nn.Conv2d(16,16,3), #inch=16, outch=32, size=16, rf=13, j=1\n",
    "            nn.BatchNorm2d(16),\n",
    "            nn.ReLU()\n",
    "        )\n",
    "\n",
    "        # OUTPUT BLOCK\n",
    "        self.convblock9 = nn.Sequential(\n",
    "            nn.Conv2d(16,10,1), #inch=32, outch=10, size=14, rf=15, j=1\n",
    "            # nn.ReLU()\n",
    "        )\n",
    "        #LINEAR LAYER\n",
    "        # self.fc_layer = nn.Linear(10*14*14, 10)\n",
    "        self.gap = nn.AdaptiveAvgPool2d((1,1))\n",
    "\n",
    "        self.dropout = nn.Dropout(dropout_p)\n",
    "        self.pool = nn.MaxPool2d(2,2)\n",
    "\n",
    "    def forward(self, x):\n",
    "        # BLOCK 1\n",
    "        x = self.convblock1(x)\n",
    "        x = self.dropout(x)\n",
    "        x = self.convblock2(x)\n",
    "        x = self.dropout(x)\n",
    "        x = self.convblock3(x)\n",
    "        x = self.dropout(x)\n",
    "        # x = self.convblock4(x)\n",
    "        # x = self.dropout(x)\n",
    "        # TRANSITION\n",
    "        x = self.pool(x)\n",
    "        x = self.convblock5(x)\n",
    "        x = self.dropout(x)\n",
    "        # BLOCK 2\n",
    "        x = self.convblock6(x)\n",
    "        x = self.dropout(x)\n",
    "        x = self.convblock7(x)\n",
    "        x = self.dropout(x)\n",
    "        x = self.convblock8(x)\n",
    "        # x = self.dropout(x)\n",
    "        # OUTPUT\n",
    "        # x = self.convblock9(x)\n",
    "        # GAP\n",
    "        x = self.convblock9(x)\n",
    "        x = self.gap(x)\n",
    "        # x = self.convblock9(x)\n",
    "        # here the shape of x will be (batch_size,10,14,14), before passing let's reshape it to (batch_size, 10*14*14)\n",
    "        x = x.view(x.size(0),-1)\n",
    "        \n",
    "        return F.log_softmax(x, dim=1)"
   ]
  },
  {
   "cell_type": "markdown",
   "metadata": {},
   "source": [
    "### Model summary"
   ]
  },
  {
   "cell_type": "code",
   "execution_count": 7,
   "metadata": {
    "colab": {
     "base_uri": "https://localhost:8080/"
    },
    "id": "Nyvn5pvDqdS4",
    "outputId": "250335c3-e9ff-4976-ed65-3ab918b07ed3"
   },
   "outputs": [],
   "source": [
    "# !pip install torchsummary\n",
    "model_3 = MyNetwork3()"
   ]
  },
  {
   "cell_type": "code",
   "execution_count": 8,
   "metadata": {},
   "outputs": [
    {
     "name": "stdout",
     "output_type": "stream",
     "text": [
      "----------------------------------------------------------------\n",
      "        Layer (type)               Output Shape         Param #\n",
      "================================================================\n",
      "            Conv2d-1            [-1, 8, 26, 26]              80\n",
      "       BatchNorm2d-2            [-1, 8, 26, 26]              16\n",
      "              ReLU-3            [-1, 8, 26, 26]               0\n",
      "           Dropout-4            [-1, 8, 26, 26]               0\n",
      "            Conv2d-5            [-1, 8, 24, 24]             584\n",
      "       BatchNorm2d-6            [-1, 8, 24, 24]              16\n",
      "              ReLU-7            [-1, 8, 24, 24]               0\n",
      "           Dropout-8            [-1, 8, 24, 24]               0\n",
      "            Conv2d-9           [-1, 16, 22, 22]           1,168\n",
      "      BatchNorm2d-10           [-1, 16, 22, 22]              32\n",
      "             ReLU-11           [-1, 16, 22, 22]               0\n",
      "          Dropout-12           [-1, 16, 22, 22]               0\n",
      "        MaxPool2d-13           [-1, 16, 11, 11]               0\n",
      "           Conv2d-14              [-1, 8, 9, 9]           1,160\n",
      "      BatchNorm2d-15              [-1, 8, 9, 9]              16\n",
      "             ReLU-16              [-1, 8, 9, 9]               0\n",
      "          Dropout-17              [-1, 8, 9, 9]               0\n",
      "           Conv2d-18              [-1, 8, 7, 7]             584\n",
      "      BatchNorm2d-19              [-1, 8, 7, 7]              16\n",
      "             ReLU-20              [-1, 8, 7, 7]               0\n",
      "          Dropout-21              [-1, 8, 7, 7]               0\n",
      "           Conv2d-22             [-1, 16, 5, 5]           1,168\n",
      "      BatchNorm2d-23             [-1, 16, 5, 5]              32\n",
      "             ReLU-24             [-1, 16, 5, 5]               0\n",
      "          Dropout-25             [-1, 16, 5, 5]               0\n",
      "           Conv2d-26             [-1, 16, 3, 3]           2,320\n",
      "      BatchNorm2d-27             [-1, 16, 3, 3]              32\n",
      "             ReLU-28             [-1, 16, 3, 3]               0\n",
      "           Conv2d-29             [-1, 10, 3, 3]             170\n",
      "AdaptiveAvgPool2d-30             [-1, 10, 1, 1]               0\n",
      "================================================================\n",
      "Total params: 7,394\n",
      "Trainable params: 7,394\n",
      "Non-trainable params: 0\n",
      "----------------------------------------------------------------\n",
      "Input size (MB): 0.00\n",
      "Forward/backward pass size (MB): 0.60\n",
      "Params size (MB): 0.03\n",
      "Estimated Total Size (MB): 0.64\n",
      "----------------------------------------------------------------\n"
     ]
    }
   ],
   "source": [
    "from torchsummary import summary\n",
    "\n",
    "summary(model_3, input_size=(1, 28, 28))"
   ]
  },
  {
   "cell_type": "markdown",
   "metadata": {},
   "source": [
    "## Train and Test loops"
   ]
  },
  {
   "cell_type": "code",
   "execution_count": 9,
   "metadata": {},
   "outputs": [],
   "source": [
    "from tqdm import tqdm\n",
    "\n",
    "# define metrics to calc\n",
    "\n",
    "train_losses = []\n",
    "train_acc = []\n",
    "\n",
    "test_losses = []\n",
    "test_acc = []\n",
    "\n",
    "\n",
    "def train(model, device, train_loader, optimizer):\n",
    "    # set model to train mode\n",
    "    model.train()\n",
    "\n",
    "    # tqdm iterator\n",
    "    pbar = tqdm(train_loader)\n",
    "\n",
    "    # correct and processed vars\n",
    "    correct = 0\n",
    "    processed = 0\n",
    "\n",
    "    # loop on batches of data\n",
    "    for batch_idx, (data,target) in enumerate(pbar):\n",
    "        #send data, targte to training device\n",
    "        data, target = data.to(device), target.to(device)\n",
    "\n",
    "        # Initialize grad to zero for the fresh batch grad accumuation\n",
    "        optimizer.zero_grad()\n",
    "\n",
    "        # pred with model\n",
    "        y_pred = model(data)\n",
    "\n",
    "        # calc loss\n",
    "        batch_loss = F.nll_loss(y_pred, target)\n",
    "        train_losses.append(batch_loss)\n",
    "\n",
    "        # backprop loss to calc and acc grad w.r.t loss of batch\n",
    "        batch_loss.backward()\n",
    "        \n",
    "        # update weights as per losses seen in this batch\n",
    "        optimizer.step()\n",
    "\n",
    "        # calculate correct pred count and acc for batch\n",
    "        pred_labels = y_pred.argmax(dim=1, keepdim=True)\n",
    "        correct_count_batch = pred_labels.eq(target.view_as(pred_labels)).sum().item()\n",
    "\n",
    "        # update total correct and total processed so far\n",
    "        correct+= correct_count_batch\n",
    "        processed+= len(data)\n",
    "\n",
    "        # set pbar desc\n",
    "        pbar.set_description(desc=f'batch Loss = {batch_loss.item()} batch_id = {batch_idx} accuracy = {100*correct/processed:.02f}'\n",
    "                            )\n",
    "        #append train acc\n",
    "        train_acc.append(100*correct/processed)\n",
    "\n",
    "\n",
    "def test(model, device, test_loader):\n",
    "    # set model to eval mode\n",
    "    model.eval()\n",
    "\n",
    "    # define var to calc correct and processed\n",
    "    correct = 0\n",
    "    processed = 0\n",
    "    test_loss = 0 # seeing loss as the code runs has no value for test\n",
    "\n",
    "    # set a no grad context\n",
    "    with torch.no_grad():\n",
    "        for data,target in test_loader:\n",
    "            #send data, target to device\n",
    "            data, target = data.to(device), target.to(device)\n",
    "    \n",
    "            # do pred\n",
    "            y_pred = model(data)\n",
    "    \n",
    "            #calc loss for batch as summed and update total test loss\n",
    "            batch_loss = F.nll_loss(y_pred, target, reduction='sum').item()\n",
    "            test_loss+= batch_loss\n",
    "            # collect loss\n",
    "            test_losses.append(batch_loss)\n",
    "    \n",
    "            # count correct\n",
    "            pred_labels = y_pred.argmax(dim=1, keepdim=True)\n",
    "            correct_batch = pred_labels.eq(target.view_as(pred_labels)).sum().item()\n",
    "    \n",
    "            #update correct\n",
    "            correct+= correct_batch\n",
    "            processed+= len(data)\n",
    "\n",
    "    # avg loss on test makes more sense to avg it\n",
    "    test_loss/= processed\n",
    "    # collect avg losses\n",
    "    test_losses.append(test_loss)\n",
    "\n",
    "    print(f'\\n Test set avg loss: {test_loss:.4f} \\\n",
    "                Accuracy: {correct}/{processed}, {100*correct/processed:.2f}'\n",
    "         )\n",
    "\n",
    "    test_acc.append(100*correct/processed)\n",
    "\n",
    "    return test_loss, round(100*correct/processed, 1)\n",
    "        \n",
    "    "
   ]
  },
  {
   "cell_type": "markdown",
   "metadata": {},
   "source": [
    "## Train for n Epochs"
   ]
  },
  {
   "cell_type": "code",
   "execution_count": null,
   "metadata": {},
   "outputs": [],
   "source": []
  },
  {
   "cell_type": "code",
   "execution_count": 10,
   "metadata": {},
   "outputs": [
    {
     "name": "stdout",
     "output_type": "stream",
     "text": [
      "EPOCH: 0\n"
     ]
    },
    {
     "name": "stderr",
     "output_type": "stream",
     "text": [
      "\n",
      "atch Loss = 0.10049688816070557 batch_id = 468 accuracy = 90.03: 100%|█| 469/469 [00:11<00:00, 40.63it/s]"
     ]
    },
    {
     "name": "stdout",
     "output_type": "stream",
     "text": [
      "\n",
      " Test set avg loss: 0.0582                 Accuracy: 9818/10000, 98.18\n",
      "Epoch 1, test_acc: 98.2 Learning Rate: 0.010000\n",
      "EPOCH: 1\n"
     ]
    },
    {
     "name": "stderr",
     "output_type": "stream",
     "text": [
      "\n",
      "atch Loss = 0.11990588903427124 batch_id = 468 accuracy = 95.03: 100%|█| 469/469 [00:11<00:00, 40.72it/s]"
     ]
    },
    {
     "name": "stdout",
     "output_type": "stream",
     "text": [
      "\n",
      " Test set avg loss: 0.0400                 Accuracy: 9885/10000, 98.85\n",
      "Epoch 2, test_acc: 98.8 Learning Rate: 0.010000\n",
      "EPOCH: 2\n"
     ]
    },
    {
     "name": "stderr",
     "output_type": "stream",
     "text": [
      "\n",
      "atch Loss = 0.10071399807929993 batch_id = 468 accuracy = 95.79: 100%|█| 469/469 [00:12<00:00, 37.97it/s]"
     ]
    },
    {
     "name": "stdout",
     "output_type": "stream",
     "text": [
      "\n",
      " Test set avg loss: 0.0376                 Accuracy: 9882/10000, 98.82\n",
      "Epoch 3, test_acc: 98.8 Learning Rate: 0.006000\n",
      "EPOCH: 3\n"
     ]
    },
    {
     "name": "stderr",
     "output_type": "stream",
     "text": [
      "\n",
      "atch Loss = 0.12180774658918381 batch_id = 468 accuracy = 96.31: 100%|█| 469/469 [00:12<00:00, 37.62it/s]"
     ]
    },
    {
     "name": "stdout",
     "output_type": "stream",
     "text": [
      "\n",
      " Test set avg loss: 0.0324                 Accuracy: 9902/10000, 99.02\n",
      "Epoch 4, test_acc: 99.0 Learning Rate: 0.006000\n",
      "EPOCH: 4\n"
     ]
    },
    {
     "name": "stderr",
     "output_type": "stream",
     "text": [
      "\n",
      "atch Loss = 0.05476018786430359 batch_id = 468 accuracy = 96.50: 100%|█| 469/469 [00:11<00:00, 40.87it/s]"
     ]
    },
    {
     "name": "stdout",
     "output_type": "stream",
     "text": [
      "\n",
      " Test set avg loss: 0.0279                 Accuracy: 9910/10000, 99.10\n",
      "Epoch 5, test_acc: 99.1 Learning Rate: 0.006000\n",
      "EPOCH: 5\n"
     ]
    },
    {
     "name": "stderr",
     "output_type": "stream",
     "text": [
      "\n",
      "atch Loss = 0.15376223623752594 batch_id = 468 accuracy = 96.66: 100%|█| 469/469 [00:10<00:00, 42.66it/s]"
     ]
    },
    {
     "name": "stdout",
     "output_type": "stream",
     "text": [
      "\n",
      " Test set avg loss: 0.0303                 Accuracy: 9907/10000, 99.07\n",
      "Epoch 6, test_acc: 99.1 Learning Rate: 0.003600\n",
      "EPOCH: 6\n"
     ]
    },
    {
     "name": "stderr",
     "output_type": "stream",
     "text": [
      "\n",
      "atch Loss = 0.13556037843227386 batch_id = 468 accuracy = 97.06: 100%|█| 469/469 [00:12<00:00, 38.64it/s]"
     ]
    },
    {
     "name": "stdout",
     "output_type": "stream",
     "text": [
      "\n",
      " Test set avg loss: 0.0239                 Accuracy: 9930/10000, 99.30\n",
      "Epoch 7, test_acc: 99.3 Learning Rate: 0.003600\n",
      "EPOCH: 7\n"
     ]
    },
    {
     "name": "stderr",
     "output_type": "stream",
     "text": [
      "\n",
      "atch Loss = 0.05357492342591286 batch_id = 468 accuracy = 96.99: 100%|█| 469/469 [00:11<00:00, 42.47it/s]"
     ]
    },
    {
     "name": "stdout",
     "output_type": "stream",
     "text": [
      "\n",
      " Test set avg loss: 0.0229                 Accuracy: 9925/10000, 99.25\n",
      "Epoch 8, test_acc: 99.2 Learning Rate: 0.002160\n",
      "EPOCH: 8\n"
     ]
    },
    {
     "name": "stderr",
     "output_type": "stream",
     "text": [
      "\n",
      "atch Loss = 0.10341391712427139 batch_id = 468 accuracy = 97.23: 100%|█| 469/469 [00:10<00:00, 42.95it/s]"
     ]
    },
    {
     "name": "stdout",
     "output_type": "stream",
     "text": [
      "\n",
      " Test set avg loss: 0.0234                 Accuracy: 9938/10000, 99.38\n",
      "Epoch 9, test_acc: 99.4 Learning Rate: 0.002160\n",
      "EPOCH: 9\n"
     ]
    },
    {
     "name": "stderr",
     "output_type": "stream",
     "text": [
      "\n",
      "atch Loss = 0.09649048000574112 batch_id = 468 accuracy = 97.22: 100%|█| 469/469 [00:11<00:00, 41.88it/s]"
     ]
    },
    {
     "name": "stdout",
     "output_type": "stream",
     "text": [
      "\n",
      " Test set avg loss: 0.0201                 Accuracy: 9938/10000, 99.38\n",
      "Epoch 10, test_acc: 99.4 Learning Rate: 0.001296\n",
      "EPOCH: 10\n"
     ]
    },
    {
     "name": "stderr",
     "output_type": "stream",
     "text": [
      "\n",
      "atch Loss = 0.09794212132692337 batch_id = 468 accuracy = 97.43: 100%|█| 469/469 [00:10<00:00, 43.67it/s]"
     ]
    },
    {
     "name": "stdout",
     "output_type": "stream",
     "text": [
      "\n",
      " Test set avg loss: 0.0198                 Accuracy: 9944/10000, 99.44\n",
      "Epoch 11, test_acc: 99.4 Learning Rate: 0.000778\n",
      "EPOCH: 11\n"
     ]
    },
    {
     "name": "stderr",
     "output_type": "stream",
     "text": [
      "\n",
      "atch Loss = 0.04615223407745361 batch_id = 468 accuracy = 97.35: 100%|█| 469/469 [00:11<00:00, 41.48it/s]"
     ]
    },
    {
     "name": "stdout",
     "output_type": "stream",
     "text": [
      "\n",
      " Test set avg loss: 0.0207                 Accuracy: 9940/10000, 99.40\n",
      "Epoch 12, test_acc: 99.4 Learning Rate: 0.000467\n",
      "EPOCH: 12\n"
     ]
    },
    {
     "name": "stderr",
     "output_type": "stream",
     "text": [
      "\n",
      "atch Loss = 0.1392127126455307 batch_id = 468 accuracy = 97.40: 100%|██| 469/469 [00:10<00:00, 43.30it/s]"
     ]
    },
    {
     "name": "stdout",
     "output_type": "stream",
     "text": [
      "\n",
      " Test set avg loss: 0.0191                 Accuracy: 9943/10000, 99.43\n",
      "Epoch 13, test_acc: 99.4 Learning Rate: 0.000280\n",
      "EPOCH: 13\n"
     ]
    },
    {
     "name": "stderr",
     "output_type": "stream",
     "text": [
      "\n",
      "atch Loss = 0.055487751960754395 batch_id = 468 accuracy = 97.48: 100%|█| 469/469 [00:10<00:00, 43.51it/s"
     ]
    },
    {
     "name": "stdout",
     "output_type": "stream",
     "text": [
      "\n",
      " Test set avg loss: 0.0189                 Accuracy: 9945/10000, 99.45\n",
      "Epoch 14, test_acc: 99.5 Learning Rate: 0.000280\n"
     ]
    }
   ],
   "source": [
    "# train with scheduler\n",
    "\n",
    "# initialize model on device\n",
    "model = model_3.to(device)\n",
    "\n",
    "# initialize optimizer with model params and lr\n",
    "optimizer = optim.Adam(model.parameters(), lr=0.01, weight_decay=1e-7)\n",
    "\n",
    "# let's try a lr scheduler\n",
    "scheduler = torch.optim.lr_scheduler.ReduceLROnPlateau(optimizer, mode='max', factor=0.6, patience=0)#, min_lr=0.000640)\n",
    "\n",
    "# Set total epochs\n",
    "EPOCHS = 14\n",
    "\n",
    "for epoch in range(EPOCHS):\n",
    "    print(f'EPOCH: {epoch}')\n",
    "    train(model, device, train_loader, optimizer)\n",
    "    last_test_loss, last_test_acc = test(model, device, test_loader)\n",
    "    scheduler.step(last_test_acc)\n",
    "    current_lr = optimizer.param_groups[0]['lr']\n",
    "    print(f\"Epoch {epoch + 1}, test_acc: {last_test_acc} Learning Rate: {current_lr:.6f}\")\n",
    "\n",
    "    "
   ]
  },
  {
   "cell_type": "code",
   "execution_count": null,
   "metadata": {},
   "outputs": [],
   "source": []
  },
  {
   "cell_type": "code",
   "execution_count": null,
   "metadata": {},
   "outputs": [],
   "source": []
  },
  {
   "cell_type": "code",
   "execution_count": null,
   "metadata": {},
   "outputs": [],
   "source": []
  }
 ],
 "metadata": {
  "accelerator": "GPU",
  "colab": {
   "provenance": []
  },
  "kernelspec": {
   "display_name": "Python 3 (ipykernel)",
   "language": "python",
   "name": "python3"
  },
  "language_info": {
   "codemirror_mode": {
    "name": "ipython",
    "version": 3
   },
   "file_extension": ".py",
   "mimetype": "text/x-python",
   "name": "python",
   "nbconvert_exporter": "python",
   "pygments_lexer": "ipython3",
   "version": "3.12.3"
  }
 },
 "nbformat": 4,
 "nbformat_minor": 4
}
